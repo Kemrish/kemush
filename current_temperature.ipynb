{
  "nbformat": 4,
  "nbformat_minor": 0,
  "metadata": {
    "colab": {
      "provenance": [],
      "toc_visible": true,
      "authorship_tag": "ABX9TyPg6J4LA9R6CReBx/pYlWvf",
      "include_colab_link": true
    },
    "kernelspec": {
      "name": "python3",
      "display_name": "Python 3"
    },
    "language_info": {
      "name": "python"
    }
  },
  "cells": [
    {
      "cell_type": "markdown",
      "metadata": {
        "id": "view-in-github",
        "colab_type": "text"
      },
      "source": [
        "<a href=\"https://colab.research.google.com/github/Kemrish/kemush/blob/main/current_temperature.ipynb\" target=\"_parent\"><img src=\"https://colab.research.google.com/assets/colab-badge.svg\" alt=\"Open In Colab\"/></a>"
      ]
    },
    {
      "cell_type": "code",
      "execution_count": 4,
      "metadata": {
        "colab": {
          "base_uri": "https://localhost:8080/"
        },
        "id": "mLvcvKnL8euG",
        "outputId": "43eba2bf-6d08-487e-cf4e-43446229143b"
      },
      "outputs": [
        {
          "output_type": "execute_result",
          "data": {
            "text/plain": [
              "('wke', 3)"
            ]
          },
          "metadata": {},
          "execution_count": 4
        }
      ],
      "source": [
        "import requests, json\n",
        "\n",
        "apikey = \"72df952e0e76b72bdefbbf9553676d76\"\n",
        "base_url = \"https://api.openweathermap.org/data/2.5/weather?q=\"\n",
        "city_name = input(\"Enter your city: \")\n",
        "completeURL = base_url + city_name + \"&appid=\" + apikey\n",
        "response = requests.get(completeURL).json()\n",
        "print(response[\"main\"][\"temp\"])"
      ]
    }
  ]
}