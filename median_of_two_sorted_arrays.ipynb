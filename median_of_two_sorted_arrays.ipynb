{
  "nbformat": 4,
  "nbformat_minor": 0,
  "metadata": {
    "colab": {
      "provenance": [],
      "toc_visible": true,
      "authorship_tag": "ABX9TyPiVg/OH+vO6OIIYJ3wmn2B",
      "include_colab_link": true
    },
    "kernelspec": {
      "name": "python3",
      "display_name": "Python 3"
    },
    "language_info": {
      "name": "python"
    }
  },
  "cells": [
    {
      "cell_type": "markdown",
      "metadata": {
        "id": "view-in-github",
        "colab_type": "text"
      },
      "source": [
        "<a href=\"https://colab.research.google.com/github/Kemrish/kemush/blob/main/median_of_two_sorted_arrays.ipynb\" target=\"_parent\"><img src=\"https://colab.research.google.com/assets/colab-badge.svg\" alt=\"Open In Colab\"/></a>"
      ]
    },
    {
      "cell_type": "code",
      "execution_count": 4,
      "metadata": {
        "colab": {
          "base_uri": "https://localhost:8080/"
        },
        "id": "mLvcvKnL8euG",
        "outputId": "43eba2bf-6d08-487e-cf4e-43446229143b"
      },
      "outputs": [
        {
          "output_type": "execute_result",
          "data": {
            "text/plain": [
              "('wke', 3)"
            ]
          },
          "metadata": {},
          "execution_count": 4
        }
      ],
      "source": [
        "k = [1, 12, 13]\n",
        "j = [4, 15, 17]\n",
        "sorted = []\n",
        "h = 0\n",
        "i = 0\n",
        "while i < len(k) and h < len(j):\n",
        "  if k[i] < j[h]:\n",
        "    sorted.append(k[i])\n",
        "    i += 1\n",
        "  else:\n",
        "    sorted.append(j[h])\n",
        "    h += 1\n",
        "else:\n",
        "  if h == len(j):\n",
        "    sorted += k[i:]\n",
        "  elif i == len(k):\n",
        "    sorted += j[h:]\n",
        "  # sorted += k[i:]\n",
        "  # sorted += j[h:]\n",
        "\n",
        "ln = len(sorted)\n",
        "if ln % 2 == 0:\n",
        "  median = (sorted[ln // 2 - 1] + sorted[ln // 2 ] ) / 2\n",
        "else:\n",
        "  median = sorted[ln // 2 ]\n",
        "\n",
        "median\n"
      ]
    }
  ]
}