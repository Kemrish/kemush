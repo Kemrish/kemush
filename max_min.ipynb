{
  "nbformat": 4,
  "nbformat_minor": 0,
  "metadata": {
    "colab": {
      "provenance": [],
      "toc_visible": true,
      "authorship_tag": "ABX9TyOUj7/7Ci3f+A2xBVlnb4+8",
      "include_colab_link": true
    },
    "kernelspec": {
      "name": "python3",
      "display_name": "Python 3"
    },
    "language_info": {
      "name": "python"
    }
  },
  "cells": [
    {
      "cell_type": "markdown",
      "metadata": {
        "id": "view-in-github",
        "colab_type": "text"
      },
      "source": [
        "<a href=\"https://colab.research.google.com/github/Kemrish/kemush/blob/main/max_min.ipynb\" target=\"_parent\"><img src=\"https://colab.research.google.com/assets/colab-badge.svg\" alt=\"Open In Colab\"/></a>"
      ]
    },
    {
      "cell_type": "code",
      "execution_count": 9,
      "metadata": {
        "colab": {
          "base_uri": "https://localhost:8080/"
        },
        "id": "mLvcvKnL8euG",
        "outputId": "6be1f326-c07f-4977-ff98-9a50bb453d53"
      },
      "outputs": [
        {
          "output_type": "stream",
          "name": "stdout",
          "text": [
            "Maximum value: 20\n",
            "Minimum value: 3\n"
          ]
        }
      ],
      "source": [
        "def find_max_min(numbers):\n",
        "    if len(numbers) == 0:\n",
        "        print(\"The list is empty.\")\n",
        "        return\n",
        "\n",
        "    maximum = numbers[0]\n",
        "    minimum = numbers[0]\n",
        "\n",
        "    for num in numbers:\n",
        "        if num > maximum:\n",
        "            maximum = num\n",
        "        if num < minimum:\n",
        "            minimum = num\n",
        "\n",
        "    print(\"Maximum value:\", maximum)\n",
        "    print(\"Minimum value:\", minimum)\n",
        "\n",
        "# Example usage\n",
        "number_list = [10, 5, 20, 15, 8, 3]\n",
        "\n",
        "find_max_min(number_list)"
      ]
    }
  ]
}