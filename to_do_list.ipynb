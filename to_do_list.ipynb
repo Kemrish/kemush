{
  "nbformat": 4,
  "nbformat_minor": 0,
  "metadata": {
    "colab": {
      "provenance": [],
      "toc_visible": true,
      "authorship_tag": "ABX9TyNmw+FjEo4JoOEvqu5u/ffH",
      "include_colab_link": true
    },
    "kernelspec": {
      "name": "python3",
      "display_name": "Python 3"
    },
    "language_info": {
      "name": "python"
    }
  },
  "cells": [
    {
      "cell_type": "markdown",
      "metadata": {
        "id": "view-in-github",
        "colab_type": "text"
      },
      "source": [
        "<a href=\"https://colab.research.google.com/github/Kemrish/kemush/blob/main/to_do_list.ipynb\" target=\"_parent\"><img src=\"https://colab.research.google.com/assets/colab-badge.svg\" alt=\"Open In Colab\"/></a>"
      ]
    },
    {
      "cell_type": "code",
      "execution_count": null,
      "metadata": {
        "colab": {
          "base_uri": "https://localhost:8080/"
        },
        "id": "mLvcvKnL8euG",
        "outputId": "b3693f3e-1c3a-4b64-dc5c-fbdb7306741d"
      },
      "outputs": [
        {
          "output_type": "stream",
          "name": "stdout",
          "text": [
            "To-Do List\n",
            "----------\n",
            "1. Display Tasks\n",
            "2. Add Task\n",
            "3. Remove Task\n",
            "4. save\n",
            "5. Exit\n"
          ]
        }
      ],
      "source": [
        "def display_tasks(tasks):\n",
        "    if not tasks:\n",
        "        print(\"No tasks in the to-do list.\")\n",
        "    else:\n",
        "        print(\"Tasks:\")\n",
        "        for index, task in enumerate(tasks, start=1):\n",
        "            print(f\"{index}. {task}\")\n",
        "    return tasks\n",
        "\n",
        "def write_tasks(tasks):\n",
        "    f=open(\"To_Do_List.py\",\"w\")\n",
        "    if not tasks:\n",
        "        f.write(\"No tasks in the to-do list.\")\n",
        "    else:\n",
        "        f.write(\"Tasks:\")\n",
        "        for index, task in enumerate(tasks, start=1):\n",
        "            f.write(f\"\\n{index}. {task}\")\n",
        "    f.close()\n",
        "    return tasks\n",
        "\n",
        "def add_task(tasks, new_task):\n",
        "    tasks.append(new_task)\n",
        "    print(\"Task added successfully.\")\n",
        "    return tasks\n",
        "\n",
        "def remove_task(tasks, task_index):\n",
        "    if task_index > 0 and task_index <= len(tasks):\n",
        "        removed_task = tasks.pop(task_index - 1)\n",
        "        print(f\"Task removed successfully.\")\n",
        "\n",
        "    else:\n",
        "        print(\"Invalid task index.\")\n",
        "    return tasks\n",
        "\n",
        "tasks = []\n",
        "\n",
        "while True:\n",
        "    print(\"To-Do List\")\n",
        "    print(\"----------\")\n",
        "    print(\"1. Display Tasks\")\n",
        "    print(\"2. Add Task\")\n",
        "    print(\"3. Remove Task\")\n",
        "    print(\"4. save\")\n",
        "    print(\"5. Exit\")\n",
        "\n",
        "    choice = input(\"Enter your choice (1-5): \")\n",
        "\n",
        "    if choice == '1':\n",
        "        display_tasks(tasks)\n",
        "\n",
        "    elif choice == '2':\n",
        "        new_task = input(\"Enter the new task: \")\n",
        "        add_task(tasks, new_task)\n",
        "\n",
        "    elif choice == '3':\n",
        "        task_index = int(input(\"Enter the index of the task to remove: \"))\n",
        "        remove_task(tasks, task_index)\n",
        "\n",
        "    elif choice =='4':\n",
        "       write_tasks(tasks)\n",
        "\n",
        "    elif choice == '5':\n",
        "        print(\"Exiting the to-do list...\")\n",
        "        break\n",
        "\n",
        "    else:\n",
        "        print(\"Invalid choice. Please enter a valid option.\")\n",
        "\n"
      ]
    }
  ]
}