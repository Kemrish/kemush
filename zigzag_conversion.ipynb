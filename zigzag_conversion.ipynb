{
  "nbformat": 4,
  "nbformat_minor": 0,
  "metadata": {
    "colab": {
      "provenance": [],
      "toc_visible": true,
      "authorship_tag": "ABX9TyMQB6BxwGJ+75BFgh1c9FNw",
      "include_colab_link": true
    },
    "kernelspec": {
      "name": "python3",
      "display_name": "Python 3"
    },
    "language_info": {
      "name": "python"
    }
  },
  "cells": [
    {
      "cell_type": "markdown",
      "metadata": {
        "id": "view-in-github",
        "colab_type": "text"
      },
      "source": [
        "<a href=\"https://colab.research.google.com/github/Kemrish/kemush/blob/main/zigzag_conversion.ipynb\" target=\"_parent\"><img src=\"https://colab.research.google.com/assets/colab-badge.svg\" alt=\"Open In Colab\"/></a>"
      ]
    },
    {
      "cell_type": "code",
      "execution_count": null,
      "metadata": {
        "id": "mLvcvKnL8euG"
      },
      "outputs": [],
      "source": [
        "s = \"PAYPALISHIRING\"\n",
        "n = int(input(\"Input number of rows: \"))\n",
        "st = \"\"\n",
        "for k in range(n):\n",
        "  plus = (n - 1) * 2\n",
        "  for i in range(k, len(s), plus):\n",
        "    st += s[i]\n",
        "    if (k > 0 and k < n - 1 and i + plus - 2 * k < len(s)):\n",
        "      st += s[i + plus - 2 * k]\n",
        "st"
      ]
    }
  ]
}