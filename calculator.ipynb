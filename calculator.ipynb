{
  "nbformat": 4,
  "nbformat_minor": 0,
  "metadata": {
    "colab": {
      "provenance": [],
      "toc_visible": true,
      "authorship_tag": "ABX9TyMtzrpem8XttW3AlIRgPphX",
      "include_colab_link": true
    },
    "kernelspec": {
      "name": "python3",
      "display_name": "Python 3"
    },
    "language_info": {
      "name": "python"
    }
  },
  "cells": [
    {
      "cell_type": "markdown",
      "metadata": {
        "id": "view-in-github",
        "colab_type": "text"
      },
      "source": [
        "<a href=\"https://colab.research.google.com/github/Kemrish/kemush/blob/main/calculator.ipynb\" target=\"_parent\"><img src=\"https://colab.research.google.com/assets/colab-badge.svg\" alt=\"Open In Colab\"/></a>"
      ]
    },
    {
      "cell_type": "code",
      "execution_count": null,
      "metadata": {
        "colab": {
          "base_uri": "https://localhost:8080/"
        },
        "id": "mLvcvKnL8euG",
        "outputId": "4bb04b7d-b06c-4b7b-98ac-c2a00cf3aaff"
      },
      "outputs": [
        {
          "output_type": "stream",
          "name": "stdout",
          "text": [
            "Welcome to Calculator: \n",
            "-----------------------\n",
            "Select operation:\n",
            "1. Addition\n",
            "2. Subtraction\n",
            "3. Multiplication\n",
            "4. Division\n",
            "5. squareroot\n",
            "6. power\n",
            "7. trigonometric function\n",
            "8. Exit\n"
          ]
        }
      ],
      "source": [
        "import math\n",
        "def add(num1, num2):\n",
        "  return num1 + num2\n",
        "def sub(num1, num2):\n",
        "  return num1 - num2\n",
        "def mul(num1, num2):\n",
        "  return num1 * num2\n",
        "def div(num1, num2):\n",
        "  return num1 / num2\n",
        "def squareroot(number):\n",
        "  return math.sqrt(number)\n",
        "def power(base, exponent):\n",
        "  return base**exponent\n",
        "def trig(angle):\n",
        "  radians = math.radians(angle)\n",
        "  sine = math.sin(radians)\n",
        "  cosine = math.cos(radians)\n",
        "  tangent = math.tan(radians)\n",
        "  return sine, cosine, tangent\n",
        "print(\"Welcome to Calculator: \")\n",
        "print(\"-----------------------\")\n",
        "while True:\n",
        "    print(\"Select operation:\")\n",
        "    print(\"1. Addition\")\n",
        "    print(\"2. Subtraction\")\n",
        "    print(\"3. Multiplication\")\n",
        "    print(\"4. Division\")\n",
        "    print(\"5. squareroot\")\n",
        "    print(\"6. power\")\n",
        "    print(\"7. trigonometric function\")\n",
        "    print(\"8. Exit\")\n",
        "    choice = int(input(\"Enter your choice (1-8): \"))\n",
        "    if choice == 8:\n",
        "        print(\"Exiting the calculator...\")\n",
        "        break\n",
        "    elif choice <= 4:\n",
        "        num1 = float(input(\"Enter the first number: \"))\n",
        "        num2 = float(input(\"Enter the second number: \"))\n",
        "        if choice == 1:\n",
        "           result = add(num1, num2)\n",
        "           print(\"Result:\", result)\n",
        "        elif choice == 2:\n",
        "           result = sub(num1, num2)\n",
        "           print(\"Result:\", result)\n",
        "        elif choice == 3:\n",
        "           result = mul(num1, num2)\n",
        "           print(\"Result:\", result)\n",
        "        else:\n",
        "            if num2 == 0:\n",
        "                print(\"Error: Division by zero is not allowed.\")\n",
        "            else:\n",
        "                result = div(num1, num2)\n",
        "                print(\"Result:\", result)\n",
        "    elif choice == 5:\n",
        "      number = float(input(\"Enter a number to calculate its squareroot: \"))\n",
        "      Squareroot = squareroot(number)\n",
        "      print(\"Square Root:\", Squareroot)\n",
        "    elif choice == 6:\n",
        "      base = float(input(\"Enter the base number: \"))\n",
        "      exponent = float(input(\"Enter the exponent: \"))\n",
        "      Power = power(base, exponent)\n",
        "      print(\"Power:\", Power)\n",
        "    elif choice == 7:\n",
        "      angle = float(input(\"Enter the angle in degrees: \"))\n",
        "      sine, cosine, tangent = calculate_trigonometric_functions(angle)\n",
        "      print(\"Sine:\", sine)\n",
        "      print(\"Cosine:\", cosine)\n",
        "      print(\"Tangent:\", tangent)\n",
        "    else:\n",
        "        print(\"Invalid choice. Please enter a valid option.\")"
      ]
    }
  ]
}