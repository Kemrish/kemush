{
  "nbformat": 4,
  "nbformat_minor": 0,
  "metadata": {
    "colab": {
      "provenance": [],
      "toc_visible": true,
      "authorship_tag": "ABX9TyPEApuCerahM5EOv+gIpfVD",
      "include_colab_link": true
    },
    "kernelspec": {
      "name": "python3",
      "display_name": "Python 3"
    },
    "language_info": {
      "name": "python"
    }
  },
  "cells": [
    {
      "cell_type": "markdown",
      "metadata": {
        "id": "view-in-github",
        "colab_type": "text"
      },
      "source": [
        "<a href=\"https://colab.research.google.com/github/Kemrish/kemush/blob/main/expense_track.ipynb\" target=\"_parent\"><img src=\"https://colab.research.google.com/assets/colab-badge.svg\" alt=\"Open In Colab\"/></a>"
      ]
    },
    {
      "cell_type": "code",
      "execution_count": null,
      "metadata": {
        "colab": {
          "base_uri": "https://localhost:8080/"
        },
        "id": "mLvcvKnL8euG",
        "outputId": "2b1d341e-9e7d-4a76-b946-caada4ae758d"
      },
      "outputs": [
        {
          "output_type": "stream",
          "name": "stdout",
          "text": [
            "Enter your city: Addis Ababa\n",
            "289.64\n"
          ]
        }
      ],
      "source": [
        "def display_expenses(expenses):\n",
        "    if not expenses:\n",
        "        print(\"No expenses.\")\n",
        "    else:\n",
        "        print(\"expenses:\")\n",
        "        for index, expense in enumerate(expenses, start=1):\n",
        "            print(f\"{index}. {expense['amount']}-- {expense['category']}\")\n",
        "            Total = 0\n",
        "    return expenses\n",
        "\n",
        "def Calculate_total():\n",
        "    Total = 0\n",
        "    for expense in expenses:\n",
        "        Total += float(expense[\"amount\"])\n",
        "    print(\"Total:\", Total)\n",
        "\n",
        "def add_expense(amount, category):\n",
        "    expense = {'amount': amount, 'category': category}\n",
        "    expenses.append(expense)\n",
        "    print(\"expense added successfully.\")\n",
        "    return expenses\n",
        "\n",
        "def remove_expense(expenses, expense_index):\n",
        "    if expense_index > 0 and expense_index <= len(expenses):\n",
        "        removed_expense = expenses.pop(expense_index - 1)\n",
        "        print(f\"expense removed successfully.\")\n",
        "\n",
        "    else:\n",
        "        print(\"Invalid expense index.\")\n",
        "    return expenses\n",
        "\n",
        "expenses = []\n",
        "\n",
        "while True:\n",
        "    print(\"Enter Choice\")\n",
        "    print(\"----------\")\n",
        "    print(\"1. Display Expense\")\n",
        "    print(\"2. Add Expense\")\n",
        "    print(\"3. Remove Expense\")\n",
        "    print(\"4. Total\")\n",
        "    print(\"5. Exit\")\n",
        "\n",
        "    choice = input(\"Enter your choice (1-5): \")\n",
        "\n",
        "    if choice == '1':\n",
        "        display_expenses(expenses)\n",
        "\n",
        "    elif choice == '2':\n",
        "        Amount = input(\"Enter the amount: \")\n",
        "        Category = input(\"Enter the category: \")\n",
        "        add_expense(Amount, Category)\n",
        "\n",
        "    elif choice == '3':\n",
        "        expense_index = int(input(\"Enter the index of the expense to remove: \"))\n",
        "        remove_expense(expenses, expense_index)\n",
        "\n",
        "    elif choice == '4':\n",
        "        Calculate_total()\n",
        "\n",
        "    elif choice =='5':\n",
        "        print(\"Exiting the expense list...\")\n",
        "        break\n",
        "\n",
        "    else:\n",
        "        print(\"Invalid choice. Please enter a valid option.\")\n",
        "\n"
      ]
    }
  ]
}