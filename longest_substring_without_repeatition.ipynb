{
  "nbformat": 4,
  "nbformat_minor": 0,
  "metadata": {
    "colab": {
      "provenance": [],
      "toc_visible": true,
      "authorship_tag": "ABX9TyNt/NYPaQWrsIOXicR96Wab",
      "include_colab_link": true
    },
    "kernelspec": {
      "name": "python3",
      "display_name": "Python 3"
    },
    "language_info": {
      "name": "python"
    }
  },
  "cells": [
    {
      "cell_type": "markdown",
      "metadata": {
        "id": "view-in-github",
        "colab_type": "text"
      },
      "source": [
        "<a href=\"https://colab.research.google.com/github/Kemrish/kemush/blob/main/longest_substring_without_repeatition.ipynb\" target=\"_parent\"><img src=\"https://colab.research.google.com/assets/colab-badge.svg\" alt=\"Open In Colab\"/></a>"
      ]
    },
    {
      "cell_type": "code",
      "execution_count": 4,
      "metadata": {
        "colab": {
          "base_uri": "https://localhost:8080/"
        },
        "id": "mLvcvKnL8euG",
        "outputId": "43eba2bf-6d08-487e-cf4e-43446229143b"
      },
      "outputs": [
        {
          "output_type": "execute_result",
          "data": {
            "text/plain": [
              "('wke', 3)"
            ]
          },
          "metadata": {},
          "execution_count": 4
        }
      ],
      "source": [
        "def rep(strg):\n",
        "  return len(strg) == len(set(strg))\n",
        "strg = \"pwwkew\"\n",
        "\n",
        "\n",
        "def maxsub(strg):\n",
        "  p = len(strg)\n",
        "  for i in range(p, 0, -1):\n",
        "    for j in range(p - i + 1):\n",
        "      n = strg[j:i+j]\n",
        "      if rep(n):\n",
        "        return n, len(n)\n",
        "maxsub(strg)"
      ]
    }
  ]
}