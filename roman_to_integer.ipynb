{
  "nbformat": 4,
  "nbformat_minor": 0,
  "metadata": {
    "colab": {
      "provenance": [],
      "toc_visible": true,
      "authorship_tag": "ABX9TyNvh8703dxeIjh5v3hP9Dhf",
      "include_colab_link": true
    },
    "kernelspec": {
      "name": "python3",
      "display_name": "Python 3"
    },
    "language_info": {
      "name": "python"
    }
  },
  "cells": [
    {
      "cell_type": "markdown",
      "metadata": {
        "id": "view-in-github",
        "colab_type": "text"
      },
      "source": [
        "<a href=\"https://colab.research.google.com/github/Kemrish/kemush/blob/main/roman_to_integer.ipynb\" target=\"_parent\"><img src=\"https://colab.research.google.com/assets/colab-badge.svg\" alt=\"Open In Colab\"/></a>"
      ]
    },
    {
      "cell_type": "code",
      "execution_count": null,
      "metadata": {
        "id": "mLvcvKnL8euG"
      },
      "outputs": [],
      "source": [
        "lst = []\n",
        "for s in lst:\n",
        "    if s == 'I':\n",
        "        lst.append(1)\n",
        "    if s == 'V':\n",
        "        lst.append(5)\n",
        "    if s == 'X':\n",
        "        lst.append(10)\n",
        "    if s == 'L':\n",
        "        lst.append(50)\n",
        "    if s == 'C':\n",
        "        lst.append(100)\n",
        "    if s == 'D':\n",
        "        lst.append(500)\n",
        "    if s == 'M':\n",
        "        lst.append(1000)\n",
        "sum = 0\n",
        "for i in range(len(lst)):\n",
        "    if i < len(lst)-1 and lst[i] < lst[i+1]:\n",
        "        sum -= lst[i]\n",
        "    else:\n",
        "        sum += lst[i]\n",
        "sum"
      ]
    }
  ]
}