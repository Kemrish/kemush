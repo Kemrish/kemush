{
  "nbformat": 4,
  "nbformat_minor": 0,
  "metadata": {
    "colab": {
      "provenance": [],
      "toc_visible": true,
      "authorship_tag": "ABX9TyOKDDaxuMf3qy3bmNZUvX3W",
      "include_colab_link": true
    },
    "kernelspec": {
      "name": "python3",
      "display_name": "Python 3"
    },
    "language_info": {
      "name": "python"
    }
  },
  "cells": [
    {
      "cell_type": "markdown",
      "metadata": {
        "id": "view-in-github",
        "colab_type": "text"
      },
      "source": [
        "<a href=\"https://colab.research.google.com/github/Kemrish/kemush/blob/main/email_validation.ipynb\" target=\"_parent\"><img src=\"https://colab.research.google.com/assets/colab-badge.svg\" alt=\"Open In Colab\"/></a>"
      ]
    },
    {
      "cell_type": "code",
      "execution_count": null,
      "metadata": {
        "id": "mLvcvKnL8euG"
      },
      "outputs": [],
      "source": [
        "def validate_email_address(address):\n",
        "\n",
        "    def byte_length(st):\n",
        "        return len(st.encode('utf-8'))\n",
        "\n",
        "    if check_character(address):\n",
        "        return False\n",
        "\n",
        "    if '@' not in address:\n",
        "        return False\n",
        "\n",
        "    if byte_length(address) > 254:\n",
        "        return False\n",
        "\n",
        "    before, after = address.split('@')\n",
        "\n",
        "    if byte_length(before) > 64 or byte_length(after) > 251:\n",
        "        return False\n",
        "\n",
        "    if before[0] in ['-', '.'] or before[-1] in ['-', '.']:\n",
        "        return False\n",
        "\n",
        "    if \".\" not in after:\n",
        "        return False\n",
        "\n",
        "    after_splitted = after.split(\".\")\n",
        "\n",
        "    if len(after_splitted) != 2:\n",
        "        return False\n",
        "\n",
        "    if after_splitted[-1] not in ['com', 'net', 'org']:\n",
        "        return False\n",
        "\n",
        "    return True\n",
        "\n",
        "def check_character(address):\n",
        "\n",
        "    special_characters = list(\"!\\\"#$%&'()*+,/:;<=>?[\\\\]^_`{|}~\")\n",
        "\n",
        "    for ch in special_characters:\n",
        "        if ch in address:\n",
        "          return True\n",
        "\n",
        "    return False\n",
        "\n",
        "def validate_html(html_content, replacements):\n",
        "    for key in replacements.keys():\n",
        "        if key not in html_content:\n",
        "            raise ValueError()\n",
        "    try:\n",
        "        return html_content.format(**replacements)\n",
        "    except:\n",
        "        raise ValueError()\n",
        "\n",
        "def validate_email_payload(sender_name, sender_address, receiver_name, receiver_address, html_contents, replacements):\n",
        "\n",
        "    sender_name = sender_name.strip()\n",
        "    sender_address = sender_address.strip()\n",
        "    receiver_name = receiver_name.strip()\n",
        "    receiver_address = receiver_address.strip()\n",
        "\n",
        "    if not (5 <= len(sender_name) <= 30):\n",
        "        raise ValueError()\n",
        "\n",
        "    print(\"Sender name address is valid\")\n",
        "\n",
        "    if not (5 <= len(receiver_name) <= 60):\n",
        "        raise ValueError()\n",
        "\n",
        "    print(\"Receiver name address is valid\")\n",
        "\n",
        "    if not validate_email_address(sender_address):\n",
        "        raise ValueError()\n",
        "\n",
        "    print(\"Sender email address is valid\")\n",
        "\n",
        "    if not validate_email_address(receiver_address):\n",
        "        raise ValueError()\n",
        "\n",
        "    print(\"Receiver email address is valid\")\n",
        "\n",
        "    valid_html = validate_html(html_content, replacements)\n",
        "    print(\"HTML is valid: \")\n",
        "    print(valid_html)\n"
      ]
    }
  ]
}