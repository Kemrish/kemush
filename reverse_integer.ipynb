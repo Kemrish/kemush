{
  "nbformat": 4,
  "nbformat_minor": 0,
  "metadata": {
    "colab": {
      "provenance": [],
      "toc_visible": true,
      "authorship_tag": "ABX9TyODl3DPOyg/p7w6lp2pVIEI",
      "include_colab_link": true
    },
    "kernelspec": {
      "name": "python3",
      "display_name": "Python 3"
    },
    "language_info": {
      "name": "python"
    }
  },
  "cells": [
    {
      "cell_type": "markdown",
      "metadata": {
        "id": "view-in-github",
        "colab_type": "text"
      },
      "source": [
        "<a href=\"https://colab.research.google.com/github/Kemrish/kemush/blob/main/reverse_integer.ipynb\" target=\"_parent\"><img src=\"https://colab.research.google.com/assets/colab-badge.svg\" alt=\"Open In Colab\"/></a>"
      ]
    },
    {
      "cell_type": "code",
      "execution_count": 3,
      "metadata": {
        "colab": {
          "base_uri": "https://localhost:8080/",
          "height": 140
        },
        "id": "mLvcvKnL8euG",
        "outputId": "1bc0b98c-df0b-446d-89c2-c08fb943682f"
      },
      "outputs": [
        {
          "output_type": "error",
          "ename": "IndentationError",
          "evalue": "ignored",
          "traceback": [
            "\u001b[0;36m  File \u001b[0;32m\"<tokenize>\"\u001b[0;36m, line \u001b[0;32m3\u001b[0m\n\u001b[0;31m    st = st.strip()\u001b[0m\n\u001b[0m    ^\u001b[0m\n\u001b[0;31mIndentationError\u001b[0m\u001b[0;31m:\u001b[0m unindent does not match any outer indentation level\n"
          ]
        }
      ],
      "source": [
        "       if not st:\n",
        "          return 0\n",
        "       st = st.strip()\n",
        "       negative = False\n",
        "       num = 0\n",
        "       if st[0] == \"-\":\n",
        "           negative = True\n",
        "       elif st[0] == \"+\":\n",
        "           negative = False\n",
        "       elif not st.isnumeric:\n",
        "           return 0\n",
        "       else:\n",
        "           num = ord(st[0]) - ord(\"0\")\n",
        "       for i in range(1, len(st)):\n",
        "            if st[i].isnumeric():\n",
        "                num = num * 10 + (ord(st[i]) - ord(\"0\"))\n",
        "                if not negative and num >= 2147483648:\n",
        "                      return 2147483648\n",
        "                if negative and num >=2147483647:\n",
        "                      return -2147483647\n",
        "            else:\n",
        "                break\n",
        "       if not negative:\n",
        "            return num\n",
        "       else:\n",
        "            return -num\n"
      ]
    }
  ]
}