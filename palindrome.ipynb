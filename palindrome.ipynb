{
  "nbformat": 4,
  "nbformat_minor": 0,
  "metadata": {
    "colab": {
      "provenance": [],
      "toc_visible": true,
      "authorship_tag": "ABX9TyMo4Jqz5HFtJapXojuOMGo+",
      "include_colab_link": true
    },
    "kernelspec": {
      "name": "python3",
      "display_name": "Python 3"
    },
    "language_info": {
      "name": "python"
    }
  },
  "cells": [
    {
      "cell_type": "markdown",
      "metadata": {
        "id": "view-in-github",
        "colab_type": "text"
      },
      "source": [
        "<a href=\"https://colab.research.google.com/github/Kemrish/kemush/blob/main/palindrome.ipynb\" target=\"_parent\"><img src=\"https://colab.research.google.com/assets/colab-badge.svg\" alt=\"Open In Colab\"/></a>"
      ]
    },
    {
      "cell_type": "code",
      "execution_count": 8,
      "metadata": {
        "colab": {
          "base_uri": "https://localhost:8080/"
        },
        "id": "mLvcvKnL8euG",
        "outputId": "d93d65f4-670d-4684-b4d0-2cb6b9e10794"
      },
      "outputs": [
        {
          "output_type": "stream",
          "name": "stdout",
          "text": [
            "Enter a string: riri\n",
            "The string is not a palindrome.\n"
          ]
        }
      ],
      "source": [
        "def is_palindrome(string):\n",
        "\n",
        "    string = string.replace(\" \", \"\").lower()\n",
        "\n",
        "    if string == string[::-1]:\n",
        "        return True\n",
        "    else:\n",
        "        return False\n",
        "\n",
        "input_string = input(\"Enter a string: \")\n",
        "\n",
        "if is_palindrome(input_string):\n",
        "    print(\"The string is a palindrome.\")\n",
        "else:\n",
        "    print(\"The string is not a palindrome.\")"
      ]
    }
  ]
}